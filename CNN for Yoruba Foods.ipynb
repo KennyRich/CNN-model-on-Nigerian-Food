{
 "cells": [
  {
   "cell_type": "markdown",
   "metadata": {},
   "source": [
    "## Importing Neccesary Libraries"
   ]
  },
  {
   "cell_type": "code",
   "execution_count": 1,
   "metadata": {},
   "outputs": [
    {
     "name": "stderr",
     "output_type": "stream",
     "text": [
      "Using TensorFlow backend.\n"
     ]
    }
   ],
   "source": [
    "import keras\n",
    "from keras.models import Sequential\n",
    "from keras.layers import Dense, Dropout, Flatten\n",
    "from keras.layers import Conv2D, MaxPooling2D\n",
    "from keras.utils import to_categorical\n",
    "from keras.preprocessing import image\n",
    "import numpy as np\n",
    "import pandas as pd\n",
    "from sklearn.model_selection import train_test_split\n",
    "from tqdm import tqdm"
   ]
  },
  {
   "cell_type": "code",
   "execution_count": 2,
   "metadata": {},
   "outputs": [],
   "source": [
    "import pandas as pd\n",
    "train= pd.read_csv('train.csv')"
   ]
  },
  {
   "cell_type": "code",
   "execution_count": 3,
   "metadata": {},
   "outputs": [
    {
     "data": {
      "text/html": [
       "<div>\n",
       "<style scoped>\n",
       "    .dataframe tbody tr th:only-of-type {\n",
       "        vertical-align: middle;\n",
       "    }\n",
       "\n",
       "    .dataframe tbody tr th {\n",
       "        vertical-align: top;\n",
       "    }\n",
       "\n",
       "    .dataframe thead th {\n",
       "        text-align: right;\n",
       "    }\n",
       "</style>\n",
       "<table border=\"1\" class=\"dataframe\">\n",
       "  <thead>\n",
       "    <tr style=\"text-align: right;\">\n",
       "      <th></th>\n",
       "      <th>dishes_zones</th>\n",
       "      <th>name_of_dish</th>\n",
       "      <th>file</th>\n",
       "    </tr>\n",
       "  </thead>\n",
       "  <tbody>\n",
       "    <tr>\n",
       "      <th>0</th>\n",
       "      <td>Yoruba</td>\n",
       "      <td>amala</td>\n",
       "      <td>0_0_0001.jpeg</td>\n",
       "    </tr>\n",
       "    <tr>\n",
       "      <th>1</th>\n",
       "      <td>Yoruba</td>\n",
       "      <td>amala</td>\n",
       "      <td>0_0_0002.jpeg</td>\n",
       "    </tr>\n",
       "    <tr>\n",
       "      <th>2</th>\n",
       "      <td>Yoruba</td>\n",
       "      <td>amala</td>\n",
       "      <td>0_0_0003.jpeg</td>\n",
       "    </tr>\n",
       "    <tr>\n",
       "      <th>3</th>\n",
       "      <td>Yoruba</td>\n",
       "      <td>amala</td>\n",
       "      <td>0_0_0004.jpeg</td>\n",
       "    </tr>\n",
       "    <tr>\n",
       "      <th>4</th>\n",
       "      <td>Yoruba</td>\n",
       "      <td>amala</td>\n",
       "      <td>0_0_0005.jpeg</td>\n",
       "    </tr>\n",
       "  </tbody>\n",
       "</table>\n",
       "</div>"
      ],
      "text/plain": [
       "  dishes_zones name_of_dish           file\n",
       "0       Yoruba        amala  0_0_0001.jpeg\n",
       "1       Yoruba        amala  0_0_0002.jpeg\n",
       "2       Yoruba        amala  0_0_0003.jpeg\n",
       "3       Yoruba        amala  0_0_0004.jpeg\n",
       "4       Yoruba        amala  0_0_0005.jpeg"
      ]
     },
     "execution_count": 3,
     "metadata": {},
     "output_type": "execute_result"
    }
   ],
   "source": [
    "train.head(5)"
   ]
  },
  {
   "cell_type": "markdown",
   "metadata": {},
   "source": [
    "## Data Preprocessing"
   ]
  },
  {
   "cell_type": "code",
   "execution_count": 4,
   "metadata": {},
   "outputs": [
    {
     "name": "stderr",
     "output_type": "stream",
     "text": [
      "100%|████████████████████████████████████████████████████████████████████████████████| 338/338 [00:32<00:00, 10.25it/s]\n"
     ]
    }
   ],
   "source": [
    "train_image=[]\n",
    "for i in tqdm (range(train.shape[0])):\n",
    "    \n",
    "    img= image.load_img('Yoruba/'+train['file'][i], target_size=(170,140), grayscale=False)\n",
    "    img=image.img_to_array(img)\n",
    "    img=img/255\n",
    "    train_image.append(img)\n",
    "X=np.array(train_image)"
   ]
  },
  {
   "cell_type": "code",
   "execution_count": 5,
   "metadata": {},
   "outputs": [
    {
     "data": {
      "text/plain": [
       "<Figure size 640x480 with 1 Axes>"
      ]
     },
     "metadata": {},
     "output_type": "display_data"
    }
   ],
   "source": [
    "import matplotlib.pyplot as plt\n",
    "plt.imshow(img[0])\n",
    "plt.show()"
   ]
  },
  {
   "cell_type": "code",
   "execution_count": 6,
   "metadata": {},
   "outputs": [
    {
     "data": {
      "text/plain": [
       "iyan     91\n",
       "efo      70\n",
       "amala    68\n",
       "eba      41\n",
       "ewedu    40\n",
       "fufu     28\n",
       "Name: name_of_dish, dtype: int64"
      ]
     },
     "execution_count": 6,
     "metadata": {},
     "output_type": "execute_result"
    }
   ],
   "source": [
    "train['name_of_dish'].value_counts()"
   ]
  },
  {
   "cell_type": "code",
   "execution_count": 7,
   "metadata": {},
   "outputs": [
    {
     "data": {
      "text/plain": [
       "<matplotlib.axes._subplots.AxesSubplot at 0x24eb5ac5ef0>"
      ]
     },
     "execution_count": 7,
     "metadata": {},
     "output_type": "execute_result"
    },
    {
     "data": {
      "image/png": "[encoded data removed]",
      "text/plain": [
       "<Figure size 432x288 with 1 Axes>"
      ]
     },
     "metadata": {
      "needs_background": "light"
     },
     "output_type": "display_data"
    }
   ],
   "source": [
    "import seaborn as sns\n",
    "sns.countplot(train['name_of_dish'])"
   ]
  },
  {
   "cell_type": "code",
   "execution_count": 8,
   "metadata": {},
   "outputs": [],
   "source": [
    "dataset=[train]\n",
    "dish={'iyan':0, 'efo':1, 'amala':2, 'eba':3, 'ewedu':4, 'fufu':5}\n",
    "for data in dataset:\n",
    "    train['dish']=train['name_of_dish'].replace(dish)"
   ]
  },
  {
   "cell_type": "markdown",
   "metadata": {},
   "source": [
    "* 0: Iyan\n",
    "* 1: Efo\n",
    "* 2: Amala\n",
    "* 3: Eba\n",
    "* 4: Ewedu\n",
    "* 5: Fufu"
   ]
  },
  {
   "cell_type": "code",
   "execution_count": 9,
   "metadata": {},
   "outputs": [
    {
     "data": {
      "text/html": [
       "<div>\n",
       "<style scoped>\n",
       "    .dataframe tbody tr th:only-of-type {\n",
       "        vertical-align: middle;\n",
       "    }\n",
       "\n",
       "    .dataframe tbody tr th {\n",
       "        vertical-align: top;\n",
       "    }\n",
       "\n",
       "    .dataframe thead th {\n",
       "        text-align: right;\n",
       "    }\n",
       "</style>\n",
       "<table border=\"1\" class=\"dataframe\">\n",
       "  <thead>\n",
       "    <tr style=\"text-align: right;\">\n",
       "      <th></th>\n",
       "      <th>dishes_zones</th>\n",
       "      <th>name_of_dish</th>\n",
       "      <th>file</th>\n",
       "      <th>dish</th>\n",
       "    </tr>\n",
       "  </thead>\n",
       "  <tbody>\n",
       "    <tr>\n",
       "      <th>0</th>\n",
       "      <td>Yoruba</td>\n",
       "      <td>amala</td>\n",
       "      <td>0_0_0001.jpeg</td>\n",
       "      <td>2</td>\n",
       "    </tr>\n",
       "    <tr>\n",
       "      <th>1</th>\n",
       "      <td>Yoruba</td>\n",
       "      <td>amala</td>\n",
       "      <td>0_0_0002.jpeg</td>\n",
       "      <td>2</td>\n",
       "    </tr>\n",
       "    <tr>\n",
       "      <th>2</th>\n",
       "      <td>Yoruba</td>\n",
       "      <td>amala</td>\n",
       "      <td>0_0_0003.jpeg</td>\n",
       "      <td>2</td>\n",
       "    </tr>\n",
       "    <tr>\n",
       "      <th>3</th>\n",
       "      <td>Yoruba</td>\n",
       "      <td>amala</td>\n",
       "      <td>0_0_0004.jpeg</td>\n",
       "      <td>2</td>\n",
       "    </tr>\n",
       "    <tr>\n",
       "      <th>4</th>\n",
       "      <td>Yoruba</td>\n",
       "      <td>amala</td>\n",
       "      <td>0_0_0005.jpeg</td>\n",
       "      <td>2</td>\n",
       "    </tr>\n",
       "  </tbody>\n",
       "</table>\n",
       "</div>"
      ],
      "text/plain": [
       "  dishes_zones name_of_dish           file  dish\n",
       "0       Yoruba        amala  0_0_0001.jpeg     2\n",
       "1       Yoruba        amala  0_0_0002.jpeg     2\n",
       "2       Yoruba        amala  0_0_0003.jpeg     2\n",
       "3       Yoruba        amala  0_0_0004.jpeg     2\n",
       "4       Yoruba        amala  0_0_0005.jpeg     2"
      ]
     },
     "execution_count": 9,
     "metadata": {},
     "output_type": "execute_result"
    }
   ],
   "source": [
    "train.head(5)"
   ]
  },
  {
   "cell_type": "code",
   "execution_count": 10,
   "metadata": {},
   "outputs": [],
   "source": [
    "labelNames=['iyan', 'efo', 'amala', 'eba', 'ewedu', 'fufu']"
   ]
  },
  {
   "cell_type": "code",
   "execution_count": 12,
   "metadata": {},
   "outputs": [],
   "source": [
    "y=to_categorical(train['dish'])"
   ]
  },
  {
   "cell_type": "code",
   "execution_count": 13,
   "metadata": {},
   "outputs": [],
   "source": [
    "X_train, X_test, y_train, y_test= train_test_split(X,y, random_state=42, test_size=0.2)"
   ]
  },
  {
   "cell_type": "markdown",
   "metadata": {},
   "source": [
    "## Building the Architecture of the Convolutional Neural Network"
   ]
  },
  {
   "cell_type": "code",
   "execution_count": 14,
   "metadata": {},
   "outputs": [],
   "source": [
    "model = Sequential()\n",
    "model.add(Conv2D(32, kernel_size=(3, 3),activation='relu',input_shape=(170,140,3)))\n",
    "model.add(MaxPooling2D(pool_size=(2, 2)))\n",
    "model.add(Conv2D(64, (3, 3), activation='relu'))\n",
    "model.add(MaxPooling2D(pool_size=(2, 2)))\n",
    "model.add(Dropout(0.25))\n",
    "model.add(Flatten())\n",
    "model.add(Dense(128, activation='relu'))\n",
    "model.add(Dropout(0.5))\n",
    "model.add(Dense(6, activation='softmax'))"
   ]
  },
  {
   "cell_type": "code",
   "execution_count": 15,
   "metadata": {},
   "outputs": [
    {
     "name": "stdout",
     "output_type": "stream",
     "text": [
      "_________________________________________________________________\n",
      "Layer (type)                 Output Shape              Param #   \n",
      "=================================================================\n",
      "conv2d_1 (Conv2D)            (None, 168, 138, 32)      896       \n",
      "_________________________________________________________________\n",
      "max_pooling2d_1 (MaxPooling2 (None, 84, 69, 32)        0         \n",
      "_________________________________________________________________\n",
      "conv2d_2 (Conv2D)            (None, 82, 67, 64)        18496     \n",
      "_________________________________________________________________\n",
      "max_pooling2d_2 (MaxPooling2 (None, 41, 33, 64)        0         \n",
      "_________________________________________________________________\n",
      "dropout_1 (Dropout)          (None, 41, 33, 64)        0         \n",
      "_________________________________________________________________\n",
      "flatten_1 (Flatten)          (None, 86592)             0         \n",
      "_________________________________________________________________\n",
      "dense_1 (Dense)              (None, 128)               11083904  \n",
      "_________________________________________________________________\n",
      "dropout_2 (Dropout)          (None, 128)               0         \n",
      "_________________________________________________________________\n",
      "dense_2 (Dense)              (None, 6)                 774       \n",
      "=================================================================\n",
      "Total params: 11,104,070\n",
      "Trainable params: 11,104,070\n",
      "Non-trainable params: 0\n",
      "_________________________________________________________________\n"
     ]
    }
   ],
   "source": [
    "model.summary()"
   ]
  },
  {
   "cell_type": "code",
   "execution_count": 16,
   "metadata": {},
   "outputs": [],
   "source": [
    "model.compile(loss='categorical_crossentropy',optimizer='Adam',metrics=['accuracy'])"
   ]
  },
  {
   "cell_type": "code",
   "execution_count": 17,
   "metadata": {
    "scrolled": true
   },
   "outputs": [
    {
     "name": "stdout",
     "output_type": "stream",
     "text": [
      "Train on 270 samples, validate on 68 samples\n",
      "Epoch 1/10\n",
      "270/270 [==============================] - ETA: 4:11 - loss: 1.8024 - acc: 0.187 - ETA: 2:27 - loss: 4.8230 - acc: 0.218 - ETA: 1:36 - loss: 5.1400 - acc: 0.197 - ETA: 1:07 - loss: 5.3283 - acc: 0.203 - ETA: 46s - loss: 4.8030 - acc: 0.237 - ETA: 30s - loss: 4.4532 - acc: 0.21 - ETA: 16s - loss: 4.1275 - acc: 0.22 - ETA: 4s - loss: 3.8670 - acc: 0.2227 - 106s 392ms/step - loss: 3.7608 - acc: 0.2222 - val_loss: 1.4778 - val_acc: 0.3088\n",
      "Epoch 2/10\n",
      "270/270 [==============================] - ETA: 58s - loss: 1.8144 - acc: 0.25 - ETA: 49s - loss: 1.6869 - acc: 0.29 - ETA: 41s - loss: 1.5885 - acc: 0.37 - ETA: 33s - loss: 1.5359 - acc: 0.43 - ETA: 26s - loss: 1.5043 - acc: 0.45 - ETA: 18s - loss: 1.5205 - acc: 0.44 - ETA: 10s - loss: 1.4832 - acc: 0.45 - ETA: 3s - loss: 1.4620 - acc: 0.4688 - 70s 260ms/step - loss: 1.4402 - acc: 0.4778 - val_loss: 1.3449 - val_acc: 0.6324\n",
      "Epoch 3/10\n",
      "270/270 [==============================] - ETA: 48s - loss: 1.3623 - acc: 0.40 - ETA: 45s - loss: 1.3917 - acc: 0.46 - ETA: 38s - loss: 1.3654 - acc: 0.51 - ETA: 30s - loss: 1.3310 - acc: 0.55 - ETA: 24s - loss: 1.2969 - acc: 0.58 - ETA: 18s - loss: 1.2902 - acc: 0.57 - ETA: 10s - loss: 1.2571 - acc: 0.59 - ETA: 3s - loss: 1.2159 - acc: 0.6172 - 70s 261ms/step - loss: 1.2137 - acc: 0.6185 - val_loss: 0.9824 - val_acc: 0.7059\n",
      "Epoch 4/10\n",
      "270/270 [==============================] - ETA: 58s - loss: 1.0024 - acc: 0.62 - ETA: 46s - loss: 1.0225 - acc: 0.59 - ETA: 38s - loss: 0.9020 - acc: 0.69 - ETA: 30s - loss: 0.9049 - acc: 0.69 - ETA: 24s - loss: 0.9465 - acc: 0.68 - ETA: 17s - loss: 0.9163 - acc: 0.69 - ETA: 10s - loss: 0.9233 - acc: 0.70 - ETA: 3s - loss: 0.9255 - acc: 0.7109 - 60s 224ms/step - loss: 0.9016 - acc: 0.7259 - val_loss: 0.6696 - val_acc: 0.7941\n",
      "Epoch 5/10\n",
      "270/270 [==============================] - ETA: 36s - loss: 0.5028 - acc: 0.84 - ETA: 30s - loss: 0.6527 - acc: 0.81 - ETA: 25s - loss: 0.6585 - acc: 0.81 - ETA: 20s - loss: 0.6728 - acc: 0.79 - ETA: 17s - loss: 0.7187 - acc: 0.75 - ETA: 12s - loss: 0.6773 - acc: 0.75 - ETA: 7s - loss: 0.6771 - acc: 0.7634 - ETA: 2s - loss: 0.6826 - acc: 0.773 - 46s 172ms/step - loss: 0.6818 - acc: 0.7667 - val_loss: 0.5829 - val_acc: 0.8382\n",
      "Epoch 6/10\n",
      "270/270 [==============================] - ETA: 46s - loss: 0.6548 - acc: 0.84 - ETA: 35s - loss: 0.5895 - acc: 0.85 - ETA: 29s - loss: 0.5847 - acc: 0.83 - ETA: 23s - loss: 0.6190 - acc: 0.80 - ETA: 18s - loss: 0.5754 - acc: 0.80 - ETA: 12s - loss: 0.5917 - acc: 0.80 - ETA: 7s - loss: 0.6031 - acc: 0.7991 - ETA: 2s - loss: 0.5887 - acc: 0.808 - 46s 171ms/step - loss: 0.5810 - acc: 0.8111 - val_loss: 0.5525 - val_acc: 0.8676\n",
      "Epoch 7/10\n",
      "270/270 [==============================] - ETA: 32s - loss: 0.6850 - acc: 0.75 - ETA: 28s - loss: 0.6621 - acc: 0.78 - ETA: 23s - loss: 0.5767 - acc: 0.80 - ETA: 19s - loss: 0.5583 - acc: 0.82 - ETA: 14s - loss: 0.5438 - acc: 0.81 - ETA: 10s - loss: 0.5481 - acc: 0.82 - ETA: 6s - loss: 0.5200 - acc: 0.8393 - ETA: 1s - loss: 0.5110 - acc: 0.832 - 40s 148ms/step - loss: 0.4989 - acc: 0.8407 - val_loss: 0.6096 - val_acc: 0.8382\n",
      "Epoch 8/10\n",
      "270/270 [==============================] - ETA: 30s - loss: 0.3899 - acc: 0.87 - ETA: 27s - loss: 0.4088 - acc: 0.85 - ETA: 22s - loss: 0.4087 - acc: 0.86 - ETA: 18s - loss: 0.4078 - acc: 0.85 - ETA: 14s - loss: 0.4289 - acc: 0.85 - ETA: 10s - loss: 0.4749 - acc: 0.84 - ETA: 6s - loss: 0.5221 - acc: 0.8438 - ETA: 1s - loss: 0.5183 - acc: 0.839 - 39s 145ms/step - loss: 0.5067 - acc: 0.8444 - val_loss: 0.6169 - val_acc: 0.8382\n",
      "Epoch 9/10\n",
      "270/270 [==============================] - ETA: 31s - loss: 0.4262 - acc: 0.93 - ETA: 29s - loss: 0.4454 - acc: 0.89 - ETA: 24s - loss: 0.4444 - acc: 0.87 - ETA: 19s - loss: 0.4145 - acc: 0.87 - ETA: 15s - loss: 0.4665 - acc: 0.85 - ETA: 10s - loss: 0.4844 - acc: 0.83 - ETA: 6s - loss: 0.4690 - acc: 0.8393 - ETA: 1s - loss: 0.4449 - acc: 0.851 - 42s 154ms/step - loss: 0.4416 - acc: 0.8556 - val_loss: 0.5332 - val_acc: 0.8676\n",
      "Epoch 10/10\n",
      "270/270 [==============================] - ETA: 37s - loss: 0.3244 - acc: 0.93 - ETA: 32s - loss: 0.4013 - acc: 0.90 - ETA: 26s - loss: 0.4004 - acc: 0.89 - ETA: 21s - loss: 0.4037 - acc: 0.87 - ETA: 16s - loss: 0.4268 - acc: 0.88 - ETA: 11s - loss: 0.4123 - acc: 0.89 - ETA: 6s - loss: 0.3981 - acc: 0.8929 - ETA: 2s - loss: 0.3952 - acc: 0.894 - 44s 163ms/step - loss: 0.3879 - acc: 0.9000 - val_loss: 0.4402 - val_acc: 0.8529\n"
     ]
    }
   ],
   "source": [
    "H = model.fit(X_train, y_train, validation_data=(X_test, y_test), epochs=10)"
   ]
  },
  {
   "cell_type": "code",
   "execution_count": 18,
   "metadata": {
    "scrolled": true
   },
   "outputs": [
    {
     "name": "stdout",
     "output_type": "stream",
     "text": [
      "dict_keys(['val_loss', 'val_acc', 'loss', 'acc'])\n"
     ]
    }
   ],
   "source": [
    "print(H.history.keys())"
   ]
  },
  {
   "cell_type": "code",
   "execution_count": 19,
   "metadata": {},
   "outputs": [
    {
     "data": {
      "image/png": "[encoded data removed]",
      "text/plain": [
       "<Figure size 432x288 with 1 Axes>"
      ]
     },
     "metadata": {
      "needs_background": "light"
     },
     "output_type": "display_data"
    }
   ],
   "source": [
    "# summarize history for accuracy\n",
    "plt.plot(H.history['acc'])\n",
    "plt.plot(H.history['val_acc'])\n",
    "plt.title('model accuracy')\n",
    "plt.ylabel('accuracy')\n",
    "plt.xlabel('epoch')\n",
    "plt.legend(['train','test'], loc='upper left')\n",
    "plt.show()"
   ]
  },
  {
   "cell_type": "code",
   "execution_count": 20,
   "metadata": {},
   "outputs": [
    {
     "data": {
      "image/png": "[encoded data removed]",
      "text/plain": [
       "<Figure size 432x288 with 1 Axes>"
      ]
     },
     "metadata": {
      "needs_background": "light"
     },
     "output_type": "display_data"
    }
   ],
   "source": [
    "# summarize history for loss\n",
    "plt.plot(H.history['loss'])\n",
    "plt.plot(H.history['val_loss'])\n",
    "plt.title('model loss')\n",
    "plt.ylabel('loss')\n",
    "plt.xlabel('epoch')\n",
    "plt.legend(['train','test'], loc='upper left')\n",
    "plt.show()"
   ]
  },
  {
   "cell_type": "code",
   "execution_count": 21,
   "metadata": {},
   "outputs": [],
   "source": [
    "# make predictions on the test set\n",
    "preds = model.predict(X_test)"
   ]
  },
  {
   "cell_type": "code",
   "execution_count": 22,
   "metadata": {},
   "outputs": [],
   "source": [
    "from sklearn.metrics import accuracy_score"
   ]
  },
  {
   "cell_type": "code",
   "execution_count": 23,
   "metadata": {},
   "outputs": [
    {
     "name": "stdout",
     "output_type": "stream",
     "text": [
      "0.8529411764705882\n"
     ]
    }
   ],
   "source": [
    "print(accuracy_score(y_test.argmax(axis=1), preds.argmax(axis=1)))"
   ]
  },
  {
   "cell_type": "code",
   "execution_count": 24,
   "metadata": {},
   "outputs": [],
   "source": [
    "from sklearn.metrics import classification_report"
   ]
  },
  {
   "cell_type": "code",
   "execution_count": 25,
   "metadata": {},
   "outputs": [
    {
     "name": "stdout",
     "output_type": "stream",
     "text": [
      "              precision    recall  f1-score   support\n",
      "\n",
      "        iyan       0.82      0.93      0.87        15\n",
      "         efo       0.89      0.94      0.91        17\n",
      "       amala       1.00      0.77      0.87        13\n",
      "         eba       0.67      0.80      0.73        10\n",
      "       ewedu       0.90      0.90      0.90        10\n",
      "        fufu       1.00      0.33      0.50         3\n",
      "\n",
      "   micro avg       0.85      0.85      0.85        68\n",
      "   macro avg       0.88      0.78      0.80        68\n",
      "weighted avg       0.87      0.85      0.85        68\n",
      "\n"
     ]
    }
   ],
   "source": [
    "print(classification_report(y_test.argmax(axis=1), preds.argmax(axis=1), target_names=labelNames))"
   ]
  },
  {
   "cell_type": "code",
   "execution_count": 26,
   "metadata": {},
   "outputs": [],
   "source": [
    "def plot_confusion_matrix(y_true, y_pred, classes,\n",
    "                          normalize=False,\n",
    "                          title=None,\n",
    "                          cmap=plt.cm.Blues):\n",
    "    from sklearn.metrics import confusion_matrix\n",
    "    from sklearn.utils.multiclass import unique_labels\n",
    "    \"\"\"\n",
    "    This function prints and plots the confusion matrix.\n",
    "    Normalization can be applied by setting `normalize=True`.\n",
    "    \"\"\"\n",
    "    if not title:\n",
    "        if normalize:\n",
    "            title = 'Normalized confusion matrix'\n",
    "        else:\n",
    "            title = 'Confusion matrix, without normalization'\n",
    "\n",
    "    # Compute confusion matrix\n",
    "    cm = confusion_matrix(y_true, y_pred)\n",
    "    # Only use the labels that appear in the data\n",
    "    classes = classes[unique_labels(y_true, y_pred)]\n",
    "    if normalize:\n",
    "        cm = cm.astype('float') / cm.sum(axis=1)[:, np.newaxis]\n",
    "        print(\"Normalized confusion matrix\")\n",
    "    else:\n",
    "        print('Confusion matrix, without normalization')\n",
    "\n",
    "    print(cm)\n",
    "\n",
    "    fig, ax = plt.subplots()\n",
    "    im = ax.imshow(cm, interpolation='nearest', cmap=cmap)\n",
    "    ax.figure.colorbar(im, ax=ax)\n",
    "    # We want to show all ticks...\n",
    "    ax.set(xticks=np.arange(cm.shape[1]),\n",
    "           yticks=np.arange(cm.shape[0]),\n",
    "           # ... and label them with the respective list entries\n",
    "           xticklabels=classes, yticklabels=classes,\n",
    "           title=title,\n",
    "           ylabel='True label',\n",
    "           xlabel='Predicted label')\n",
    "\n",
    "    # Rotate the tick labels and set their alignment.\n",
    "    plt.setp(ax.get_xticklabels(), rotation=45, ha=\"right\",\n",
    "             rotation_mode=\"anchor\")\n",
    "\n",
    "    # Loop over data dimensions and create text annotations.\n",
    "    fmt = '.2f' if normalize else 'd'\n",
    "    thresh = cm.max() / 2.\n",
    "    for i in range(cm.shape[0]):\n",
    "        for j in range(cm.shape[1]):\n",
    "            ax.text(j, i, format(cm[i, j], fmt),\n",
    "                    ha=\"center\", va=\"center\",\n",
    "                    color=\"white\" if cm[i, j] > thresh else \"black\")\n",
    "    fig.tight_layout()\n",
    "    return ax"
   ]
  },
  {
   "cell_type": "code",
   "execution_count": 27,
   "metadata": {},
   "outputs": [
    {
     "name": "stdout",
     "output_type": "stream",
     "text": [
      "Confusion matrix, without normalization\n",
      "[[14  0  0  1  0  0]\n",
      " [ 0 16  0  0  1  0]\n",
      " [ 1  1 10  1  0  0]\n",
      " [ 2  0  0  8  0  0]\n",
      " [ 0  1  0  0  9  0]\n",
      " [ 0  0  0  2  0  1]]\n"
     ]
    },
    {
     "data": {
      "text/plain": [
       "<matplotlib.axes._subplots.AxesSubplot at 0x24ebc007710>"
      ]
     },
     "execution_count": 27,
     "metadata": {},
     "output_type": "execute_result"
    },
    {
     "data": {
      "image/png": "[encoded data removed]",
      "text/plain": [
       "<Figure size 432x288 with 2 Axes>"
      ]
     },
     "metadata": {
      "needs_background": "light"
     },
     "output_type": "display_data"
    }
   ],
   "source": [
    "class_names=np.array(('iyan', 'efo', 'amala', 'eba', 'ewedu', 'fufu'))\n",
    "plot_confusion_matrix(y_test.argmax(axis=1), preds.argmax(axis=1), classes=class_names, title='Confusion Matrix')"
   ]
  },
  {
   "cell_type": "code",
   "execution_count": null,
   "metadata": {},
   "outputs": [],
   "source": []
  }
 ],
 "metadata": {
  "kernelspec": {
   "display_name": "Python 3",
   "language": "python",
   "name": "python3"
  },
  "language_info": {
   "codemirror_mode": {
    "name": "ipython",
    "version": 3
   },
   "file_extension": ".py",
   "mimetype": "text/x-python",
   "name": "python",
   "nbconvert_exporter": "python",
   "pygments_lexer": "ipython3",
   "version": "3.6.7"
  }
 },
 "nbformat": 4,
 "nbformat_minor": 2
}
